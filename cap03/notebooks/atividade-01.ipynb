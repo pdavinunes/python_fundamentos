{
 "cells": [
  {
   "cell_type": "markdown",
   "metadata": {},
   "source": [
    "# <font color='blue'>Python Fundamentos</font>"
   ]
  },
  {
   "cell_type": "markdown",
   "metadata": {},
   "source": [
    "## Capitulo 03 - if, else e elif"
   ]
  },
  {
   "cell_type": "code",
   "execution_count": null,
   "metadata": {},
   "outputs": [],
   "source": [
    "if 5>2: \n",
    "    print('Python Rules')"
   ]
  },
  {
   "cell_type": "code",
   "execution_count": null,
   "metadata": {},
   "outputs": [],
   "source": [
    "if 51 == 'Mundial':\n",
    "    print('Palmares tem mundial')\n",
    "else:\n",
    "    print('Palmares não tem mundial')"
   ]
  },
  {
   "cell_type": "markdown",
   "metadata": {},
   "source": [
    "### Condicionais Aninhados"
   ]
  },
  {
   "cell_type": "code",
   "execution_count": null,
   "metadata": {},
   "outputs": [],
   "source": [
    "idade = 18\n",
    "if idade > 17:\n",
    "    print(\"Pode dirigir\")\n",
    "else: \n",
    "    print(\"Não pode dirigir\")"
   ]
  },
  {
   "cell_type": "code",
   "execution_count": null,
   "metadata": {},
   "outputs": [],
   "source": [
    "nome = 'davi'"
   ]
  },
  {
   "cell_type": "code",
   "execution_count": null,
   "metadata": {},
   "outputs": [],
   "source": [
    "if (idade >= 18) and (nome.capitalize() == 'Davi'):\n",
    "    print('Pode entrar')\n",
    "else:\n",
    "    print('Não pode entrar')"
   ]
  },
  {
   "cell_type": "code",
   "execution_count": null,
   "metadata": {},
   "outputs": [],
   "source": [
    "bebida1, bebida2, bebida3 = 'Cerveja', 'Vodka', 'Refri'\n",
    "if (bebida1 == 'Cerveja' or 'Refri') and (bebida2 != 'Vodka'):\n",
    "    print('Bora beber papai!!!')\n",
    "else:\n",
    "    print('Egua! Tô fora')"
   ]
  },
  {
   "cell_type": "markdown",
   "metadata": {},
   "source": [
    "### Elif"
   ]
  },
  {
   "cell_type": "code",
   "execution_count": null,
   "metadata": {},
   "outputs": [],
   "source": [
    "time = 'Corinthians'\n",
    "if time == 'Corinthians':\n",
    "    print('Vai corinthiiians!!!')\n",
    "elif time == 'Palmeiras':\n",
    "    print('no tiene mundial')\n",
    "else:\n",
    "    print('Passa o celular!')\n"
   ]
  },
  {
   "cell_type": "markdown",
   "metadata": {},
   "source": [
    "### Trabalhando com entrada"
   ]
  },
  {
   "cell_type": "code",
   "execution_count": 7,
   "metadata": {},
   "outputs": [
    {
     "name": "stdout",
     "output_type": "stream",
     "text": [
      "Digite a nota 1 -> 7\n",
      "Digite a nota 2 -> 5.5\n",
      "Avaliação Final!\n"
     ]
    }
   ],
   "source": [
    "n1 = float(input('Digite a nota 1 -> '))\n",
    "n2 = float(input('Digite a nota 2 -> '))\n",
    "\n",
    "nf = ((n1*2.0)+(n2*3.0))/5.0\n",
    "\n",
    "if nf >= 7.0:\n",
    "    print('Aprovado com media %.1f' %(nf))\n",
    "elif nf >= 3.0:\n",
    "    print('Avaliação Final!')\n",
    "else:\n",
    "    print('Reprovado')"
   ]
  }
 ],
 "metadata": {
  "kernelspec": {
   "display_name": "Python 3",
   "language": "python",
   "name": "python3"
  },
  "language_info": {
   "codemirror_mode": {
    "name": "ipython",
    "version": 3
   },
   "file_extension": ".py",
   "mimetype": "text/x-python",
   "name": "python",
   "nbconvert_exporter": "python",
   "pygments_lexer": "ipython3",
   "version": "3.7.3"
  }
 },
 "nbformat": 4,
 "nbformat_minor": 2
}
