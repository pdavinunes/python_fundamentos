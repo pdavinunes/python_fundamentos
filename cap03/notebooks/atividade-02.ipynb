{
 "cells": [
  {
   "cell_type": "markdown",
   "metadata": {},
   "source": [
    "# <font color='blue'>Python Fundamentos</font>"
   ]
  },
  {
   "cell_type": "markdown",
   "metadata": {},
   "source": [
    "## Capitulo 03 - For"
   ]
  },
  {
   "cell_type": "code",
   "execution_count": 15,
   "metadata": {},
   "outputs": [
    {
     "name": "stdout",
     "output_type": "stream",
     "text": [
      "2\n",
      "3\n",
      "4\n"
     ]
    }
   ],
   "source": [
    "# Criando uma tupla e imprimindo seus valores\n",
    "tp = (2,3,4)\n",
    "for i in tp:\n",
    "    print(i)"
   ]
  },
  {
   "cell_type": "code",
   "execution_count": 2,
   "metadata": {},
   "outputs": [
    {
     "name": "stdout",
     "output_type": "stream",
     "text": [
      "Leite\n",
      "Maça\n",
      "Bife\n"
     ]
    }
   ],
   "source": [
    "# Imprimindo valores em uma lista\n",
    "lista = ['leite','maça','bife']\n",
    "for i in lista:\n",
    "    print(i.capitalize())"
   ]
  },
  {
   "cell_type": "code",
   "execution_count": 12,
   "metadata": {},
   "outputs": [
    {
     "name": "stdout",
     "output_type": "stream",
     "text": [
      "\n",
      "maça\n",
      "\n",
      "maça\n",
      "bifebife\n"
     ]
    }
   ],
   "source": [
    "# Python é exclusivo e não inclusivo, por isso só exibiu maça\n",
    "for cont in range(0,2):\n",
    "    print(cont*lista[cont])\n",
    "\n",
    "for cont2 in range(0,3):\n",
    "    print(cont2*lista[cont2])"
   ]
  },
  {
   "cell_type": "code",
   "execution_count": 16,
   "metadata": {},
   "outputs": [
    {
     "name": "stdout",
     "output_type": "stream",
     "text": [
      "2\n",
      "4\n",
      "6\n",
      "8\n",
      "10\n"
     ]
    }
   ],
   "source": [
    "# exibindo pares em python\n",
    "numeros = [1,2,3,4,5,6,7,8,9,10]\n",
    "# o escopo da variavel continua em todo o notebook\n",
    "for i in numeros:\n",
    "    if i % 2 == 0:\n",
    "        print(i)"
   ]
  },
  {
   "cell_type": "code",
   "execution_count": 18,
   "metadata": {},
   "outputs": [
    {
     "name": "stdout",
     "output_type": "stream",
     "text": [
      "0\n",
      "5\n",
      "10\n",
      "15\n",
      "20\n",
      "25\n",
      "30\n",
      "35\n",
      "40\n",
      "45\n",
      "50\n",
      "55\n",
      "60\n",
      "65\n",
      "70\n",
      "75\n",
      "80\n",
      "85\n",
      "90\n",
      "95\n",
      "100\n"
     ]
    }
   ],
   "source": [
    "for i in range(0,101,5):\n",
    "    print(i)"
   ]
  },
  {
   "cell_type": "code",
   "execution_count": 20,
   "metadata": {},
   "outputs": [
    {
     "name": "stdout",
     "output_type": "stream",
     "text": [
      "P\n",
      "a\n",
      "u\n",
      "l\n",
      "o\n",
      " \n",
      "D\n",
      "a\n",
      "v\n",
      "i\n"
     ]
    }
   ],
   "source": [
    "for char in 'Paulo Davi':\n",
    "    print(char)"
   ]
  },
  {
   "cell_type": "markdown",
   "metadata": {},
   "source": [
    "### Loops Aninhados"
   ]
  },
  {
   "cell_type": "code",
   "execution_count": 22,
   "metadata": {},
   "outputs": [
    {
     "name": "stdout",
     "output_type": "stream",
     "text": [
      "0\n",
      "0\n",
      "0\n",
      "0\n",
      "0\n",
      "0\n",
      "1\n",
      "2\n",
      "3\n",
      "4\n",
      "0\n",
      "2\n",
      "4\n",
      "6\n",
      "8\n",
      "0\n",
      "3\n",
      "6\n",
      "9\n",
      "12\n",
      "0\n",
      "4\n",
      "8\n",
      "12\n",
      "16\n"
     ]
    }
   ],
   "source": [
    "for i in range(0,5):\n",
    "    for y in range(0,5):\n",
    "        print(y*i)"
   ]
  },
  {
   "cell_type": "code",
   "execution_count": 23,
   "metadata": {},
   "outputs": [
    {
     "name": "stdout",
     "output_type": "stream",
     "text": [
      "1836\n"
     ]
    }
   ],
   "source": [
    "listaB = [13,54,678,76,88,9]\n",
    "soma = 0\n",
    "for i in listaB:\n",
    "    double_i = i * 2\n",
    "    soma += double_i\n",
    "    \n",
    "print(soma)"
   ]
  },
  {
   "cell_type": "code",
   "execution_count": 26,
   "metadata": {},
   "outputs": [
    {
     "name": "stdout",
     "output_type": "stream",
     "text": [
      "[1, 2, 3]\n",
      "1\n",
      "2\n",
      "3\n",
      "[5, 10, 15]\n",
      "5\n",
      "10\n",
      "15\n",
      "[9, 18, 27]\n",
      "9\n",
      "18\n",
      "27\n"
     ]
    }
   ],
   "source": [
    "listas = [[1,2,3],[5,10,15],[9,18,27]]\n",
    "for val in listas:\n",
    "    print(val)\n",
    "    for valor in val:\n",
    "        print(valor)"
   ]
  },
  {
   "cell_type": "code",
   "execution_count": 30,
   "metadata": {},
   "outputs": [
    {
     "name": "stdout",
     "output_type": "stream",
     "text": [
      "5\n",
      "5\n"
     ]
    }
   ],
   "source": [
    "lista = [5,6,5,1,2]\n",
    "count = 0\n",
    "for i in lista:\n",
    "    count += 1\n",
    "\n",
    "print(count)\n",
    "print(len(lista))"
   ]
  },
  {
   "cell_type": "code",
   "execution_count": 36,
   "metadata": {},
   "outputs": [
    {
     "name": "stdout",
     "output_type": "stream",
     "text": [
      "3\n",
      "3\n",
      "4\n"
     ]
    }
   ],
   "source": [
    "matriz = [[11,21,37],[5,0,5,'q'],[19,183,257]]\n",
    "col = 0\n",
    "for x in matriz:\n",
    "    col += 1\n",
    "print(col)\n",
    "print(len(matriz))\n",
    "print(len(matriz[1]))"
   ]
  },
  {
   "cell_type": "code",
   "execution_count": 1,
   "metadata": {},
   "outputs": [
    {
     "name": "stdout",
     "output_type": "stream",
     "text": [
      "Amigo estoy aqui\n",
      "Amigo estoy aqui\n"
     ]
    }
   ],
   "source": [
    "listaD = [1,2,4,5,31]\n",
    "for x in listaD:\n",
    "    if 31 == x:\n",
    "        print('Amigo estoy aqui')\n",
    "\n",
    "print('Amigo estoy aqui' if 1 in listaD else 'Amigo, onde está?')\n"
   ]
  },
  {
   "cell_type": "code",
   "execution_count": 43,
   "metadata": {},
   "outputs": [
    {
     "name": "stdout",
     "output_type": "stream",
     "text": [
      "k1\n",
      "k2\n",
      "k3\n",
      "Redes\n",
      "Bio\n",
      "Eletro\n",
      "k1 Redes\n",
      "k2 Bio\n",
      "k3 Eletro\n"
     ]
    }
   ],
   "source": [
    "dicio = {'k1':'Redes','k2':'Bio','k3':'Eletro'}\n",
    "\n",
    "for k in dicio:\n",
    "    print(k)\n",
    "\n",
    "for v in dicio.values():\n",
    "    print(v)\n",
    "\n",
    "for k,v in dicio.items():\n",
    "    print(k, v)"
   ]
  }
 ],
 "metadata": {
  "kernelspec": {
   "display_name": "Python 3",
   "language": "python",
   "name": "python3"
  },
  "language_info": {
   "codemirror_mode": {
    "name": "ipython",
    "version": 3
   },
   "file_extension": ".py",
   "mimetype": "text/x-python",
   "name": "python",
   "nbconvert_exporter": "python",
   "pygments_lexer": "ipython3",
   "version": "3.7.3"
  }
 },
 "nbformat": 4,
 "nbformat_minor": 2
}
