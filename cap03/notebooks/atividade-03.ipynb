{
 "cells": [
  {
   "cell_type": "markdown",
   "metadata": {},
   "source": [
    "# <font color='blue'>Python Fundamentos</font>"
   ]
  },
  {
   "cell_type": "markdown",
   "metadata": {},
   "source": [
    "## Capitulo 03 - While"
   ]
  },
  {
   "cell_type": "code",
   "execution_count": 1,
   "metadata": {},
   "outputs": [
    {
     "name": "stdout",
     "output_type": "stream",
     "text": [
      "0\n",
      "1\n",
      "2\n",
      "3\n",
      "4\n",
      "5\n",
      "6\n",
      "7\n",
      "8\n",
      "9\n"
     ]
    }
   ],
   "source": [
    "# Em python é possivel utilizar else no while\n",
    "cont = 0\n",
    "while cont < 10:\n",
    "    print(cont)\n",
    "    cont += 1\n",
    "else:\n",
    "    print('Loop concluido')"
   ]
  },
  {
   "cell_type": "markdown",
   "metadata": {},
   "source": [
    "### Pass, Break e Continue"
   ]
  },
  {
   "cell_type": "code",
   "execution_count": 1,
   "metadata": {},
   "outputs": [
    {
     "name": "stdout",
     "output_type": "stream",
     "text": [
      "0\n",
      "1\n",
      "2\n",
      "3\n"
     ]
    }
   ],
   "source": [
    "cont = 0\n",
    "while cont < 10:\n",
    "    if cont == 4:\n",
    "        break\n",
    "    else:\n",
    "        pass\n",
    "    print(cont)\n",
    "    cont += 1"
   ]
  },
  {
   "cell_type": "code",
   "execution_count": 2,
   "metadata": {},
   "outputs": [
    {
     "name": "stdout",
     "output_type": "stream",
     "text": [
      "P\n",
      "y\n",
      "t\n",
      "o\n",
      "n\n"
     ]
    }
   ],
   "source": [
    "for v in 'Python':\n",
    "    if v == 'h':\n",
    "        continue\n",
    "    else:\n",
    "        print(v)"
   ]
  },
  {
   "cell_type": "markdown",
   "metadata": {},
   "source": [
    "### While e For juntos"
   ]
  },
  {
   "cell_type": "code",
   "execution_count": 49,
   "metadata": {},
   "outputs": [
    {
     "name": "stdout",
     "output_type": "stream",
     "text": [
      "Com break\n",
      "Microsegundos 77152.25\n",
      "Sem break\n",
      "Microsegundos 435772.90\n"
     ]
    }
   ],
   "source": [
    "import time\n",
    "\n",
    "################################################\n",
    "\n",
    "inicio1 = time.time()\n",
    "for i in range(2,2000):\n",
    "    j = 2\n",
    "    cont = 0\n",
    "    while j < i:\n",
    "        if i % j == 0:\n",
    "            cont = 1\n",
    "            j += 1\n",
    "            break\n",
    "        else:\n",
    "            j += 1\n",
    "    if cont == 0:\n",
    "        cont = 0\n",
    "    else: \n",
    "        cont = 0\n",
    "fim1 = time.time()\n",
    "print('Com break')\n",
    "print('Microsegundos %.2f' %((fim1 - inicio1) * 1*10**6))\n",
    "\n",
    "###############################################\n",
    "\n",
    "inicio2 = time.time()\n",
    "for i in range(2,2000):\n",
    "    j = 2\n",
    "    cont = 0\n",
    "    while j < i:\n",
    "        if i % j == 0:\n",
    "            cont = 1\n",
    "            j += 1\n",
    "        else:\n",
    "            j += 1\n",
    "    if cont == 0:\n",
    "        cont = 0\n",
    "    else: \n",
    "        cont = 0\n",
    "fim2 = time.time()\n",
    "print('Sem break')\n",
    "print('Microsegundos %.2f' %((fim2 - inicio2) * 1*10**6)) "
   ]
  }
 ],
 "metadata": {
  "kernelspec": {
   "display_name": "Python 3",
   "language": "python",
   "name": "python3"
  },
  "language_info": {
   "codemirror_mode": {
    "name": "ipython",
    "version": 3
   },
   "file_extension": ".py",
   "mimetype": "text/x-python",
   "name": "python",
   "nbconvert_exporter": "python",
   "pygments_lexer": "ipython3",
   "version": "3.7.3"
  }
 },
 "nbformat": 4,
 "nbformat_minor": 2
}
