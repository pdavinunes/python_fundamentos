{
 "cells": [
  {
   "cell_type": "markdown",
   "metadata": {},
   "source": [
    "# <font color='blue'>Python Fundamentos</font>"
   ]
  },
  {
   "cell_type": "markdown",
   "metadata": {},
   "source": [
    "## Capitulo 02 - Exercicios "
   ]
  },
  {
   "cell_type": "code",
   "execution_count": 9,
   "metadata": {},
   "outputs": [
    {
     "name": "stdout",
     "output_type": "stream",
     "text": [
      "1\n",
      "2\n",
      "3\n",
      "4\n",
      "5\n",
      "6\n",
      "7\n",
      "8\n",
      "9\n",
      "10\n",
      "[1, 2, 3, 4, 5, 6, 7, 8, 9, 10]\n"
     ]
    }
   ],
   "source": [
    "# Ex - 01\n",
    "\n",
    "arr = []\n",
    "\n",
    "for i in range(1,11):\n",
    "    print(i)\n",
    "    arr.append(i)\n",
    "\n",
    "print(arr)"
   ]
  },
  {
   "cell_type": "code",
   "execution_count": 10,
   "metadata": {},
   "outputs": [
    {
     "name": "stdout",
     "output_type": "stream",
     "text": [
      "['Olá', 'meu', 'nome', 'é', 'Davi']\n"
     ]
    },
    {
     "data": {
      "text/plain": [
       "list"
      ]
     },
     "execution_count": 10,
     "metadata": {},
     "output_type": "execute_result"
    }
   ],
   "source": [
    "# Ex - 02\n",
    "\n",
    "list = \"Olá meu nome é Davi\".split()\n",
    "print(list)\n",
    "type(list)"
   ]
  },
  {
   "cell_type": "code",
   "execution_count": 13,
   "metadata": {},
   "outputs": [
    {
     "name": "stdout",
     "output_type": "stream",
     "text": [
      "Rua X - N: 1020\n"
     ]
    }
   ],
   "source": [
    "# Ex - 03\n",
    "\n",
    "logadoura = \"Rua X\"\n",
    "numero = \"1020\"\n",
    "\n",
    "endereco = logadoura+\" - N: \"+numero\n",
    "print(endereco)"
   ]
  },
  {
   "cell_type": "code",
   "execution_count": 14,
   "metadata": {},
   "outputs": [
    {
     "data": {
      "text/plain": [
       "3"
      ]
     },
     "execution_count": 14,
     "metadata": {},
     "output_type": "execute_result"
    }
   ],
   "source": [
    "# Ex - 04\n",
    "\n",
    "tupla = (1,2,2,3,4,4,4,5)\n",
    "tupla.count(4)"
   ]
  },
  {
   "cell_type": "code",
   "execution_count": 15,
   "metadata": {},
   "outputs": [
    {
     "name": "stdout",
     "output_type": "stream",
     "text": [
      "{}\n"
     ]
    }
   ],
   "source": [
    "# Ex - 05\n",
    "\n",
    "dict_empty = {}\n",
    "print(dict_empty)"
   ]
  },
  {
   "cell_type": "code",
   "execution_count": 21,
   "metadata": {},
   "outputs": [
    {
     "name": "stdout",
     "output_type": "stream",
     "text": [
      "{'Nome': 'Davi', 'Curso': 'Redes', 'Idade': 19}\n",
      "Davi\n",
      "<class 'dict'>\n",
      "dict_keys(['Nome', 'Curso', 'Idade'])\n"
     ]
    }
   ],
   "source": [
    "# Ex - 06\n",
    "aluno = {'Nome':'Davi', 'Curso':'Redes', 'Idade':19}\n",
    "\n",
    "print(aluno)\n",
    "print(aluno['Nome'])\n",
    "print(type(aluno))\n",
    "print(aluno.keys())"
   ]
  },
  {
   "cell_type": "code",
   "execution_count": 23,
   "metadata": {},
   "outputs": [
    {
     "name": "stdout",
     "output_type": "stream",
     "text": [
      "{'Nome': 'Davi', 'Curso': 'Redes', 'Idade': 19, 'Turno': 'Noturno'}\n"
     ]
    }
   ],
   "source": [
    "# Ex - 07\n",
    "\n",
    "aluno['Turno'] = 'Noturno'\n",
    "print(aluno)"
   ]
  },
  {
   "cell_type": "code",
   "execution_count": 28,
   "metadata": {},
   "outputs": [
    {
     "name": "stdout",
     "output_type": "stream",
     "text": [
      "{'Nome': 'Davi', 'Notas': [10.0, 6, 4], 'Aprovado': True}\n"
     ]
    }
   ],
   "source": [
    "# Ex - 08\n",
    "\n",
    "nota = {'Nome':aluno['Nome'], 'Notas':[10.0, 6,4], 'Aprovado': True}\n",
    "print (nota)"
   ]
  },
  {
   "cell_type": "code",
   "execution_count": 34,
   "metadata": {},
   "outputs": [
    {
     "name": "stdout",
     "output_type": "stream",
     "text": [
      "['Vai dá bosta!', ('Xablau', 31), {'Vai da erro?': True, 'Python tudinho?': True}, 3.14]\n"
     ]
    }
   ],
   "source": [
    "# Ex - 09\n",
    "\n",
    "lista = ['Vai dá bosta!', ('Xablau', 31), {'Vai da erro?':True, 'Python tudinho?':True}, 3.14]\n",
    "\n",
    "print(lista)"
   ]
  },
  {
   "cell_type": "code",
   "execution_count": 36,
   "metadata": {},
   "outputs": [
    {
     "name": "stdout",
     "output_type": "stream",
     "text": [
      "Cientista de Dados\n"
     ]
    }
   ],
   "source": [
    "# Ex - 10\n",
    "\n",
    "frase = 'Cientista de Dados é o profissional mais sexy do século XXI' \n",
    "\n",
    "print(frase[0:18])"
   ]
  }
 ],
 "metadata": {
  "kernelspec": {
   "display_name": "Python 3",
   "language": "python",
   "name": "python3"
  },
  "language_info": {
   "codemirror_mode": {
    "name": "ipython",
    "version": 3
   },
   "file_extension": ".py",
   "mimetype": "text/x-python",
   "name": "python",
   "nbconvert_exporter": "python",
   "pygments_lexer": "ipython3",
   "version": "3.7.3"
  }
 },
 "nbformat": 4,
 "nbformat_minor": 2
}
