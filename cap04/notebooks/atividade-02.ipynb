{
 "cells": [
  {
   "cell_type": "markdown",
   "metadata": {},
   "source": [
    "# <font color='blue'>Python Fundamentos</font>"
   ]
  },
  {
   "cell_type": "markdown",
   "metadata": {},
   "source": [
    "## Arquivos - parte 2 "
   ]
  },
  {
   "cell_type": "markdown",
   "metadata": {},
   "source": [
    "### Manipulação de arquivos\n",
    "\n",
    "* Arquivos TXT\n",
    "* Arquivos CSV\n",
    "* Arquivos JSON"
   ]
  },
  {
   "cell_type": "code",
   "execution_count": 2,
   "metadata": {},
   "outputs": [],
   "source": [
    "texto = 'O Naruto pode ser um pouco duro as vezes\\n'\n",
    "texto += 'Pode não parecer, mas o Naruto também cresceu sem pai, ele  não teve nenhum dos pais\\n'\n",
    "texto += 'E não teve nenhum amigo em nossa aldeia'"
   ]
  },
  {
   "cell_type": "code",
   "execution_count": 3,
   "metadata": {},
   "outputs": [
    {
     "name": "stdout",
     "output_type": "stream",
     "text": [
      "O Naruto pode ser um pouco duro as vezes\n",
      "Pode não parecer, mas o Naruto também cresceu sem pai, ele  não teve nenhum dos pais\n",
      "E não teve nenhum amigo em nossa aldeia\n"
     ]
    }
   ],
   "source": [
    "print(texto)"
   ]
  },
  {
   "cell_type": "code",
   "execution_count": 4,
   "metadata": {},
   "outputs": [],
   "source": [
    "# importa o modulo os\n",
    "# os = operation system\n",
    "# usado para manipular o sistema operacional, arquivos, diretorios, até mesmo variaveis de ambiente\n",
    "\n",
    "import os"
   ]
  },
  {
   "cell_type": "code",
   "execution_count": null,
   "metadata": {},
   "outputs": [],
   "source": [
    "dir(os)"
   ]
  },
  {
   "cell_type": "code",
   "execution_count": 7,
   "metadata": {},
   "outputs": [],
   "source": [
    "# no modo de escrita(w) ,caso o arquivo não exista, o python criar o mesmo \n",
    "arquivo = open(os.path.join('arquivos/naruto.txt'),'w')"
   ]
  },
  {
   "cell_type": "code",
   "execution_count": 8,
   "metadata": {},
   "outputs": [],
   "source": [
    "# gravando no arquiv\n",
    "for palavra in texto.split():\n",
    "    arquivo.write(palavra+' ')"
   ]
  },
  {
   "cell_type": "code",
   "execution_count": 9,
   "metadata": {},
   "outputs": [],
   "source": [
    "arquivo.close()"
   ]
  },
  {
   "cell_type": "code",
   "execution_count": 11,
   "metadata": {},
   "outputs": [
    {
     "name": "stdout",
     "output_type": "stream",
     "text": [
      "O Naruto pode ser um pouco duro as vezes Pode não parecer, mas o Naruto também cresceu sem pai, ele não teve nenhum dos pais E não teve nenhum amigo em nossa aldeia \n"
     ]
    }
   ],
   "source": [
    "arquivo = open('arquivos/naruto.txt', 'r')\n",
    "print(arquivo.read())\n",
    "arquivo.close()"
   ]
  },
  {
   "cell_type": "markdown",
   "metadata": {},
   "source": [
    "### Utilizando a expressão with \n",
    "\n",
    "O método close() é executado automaticamente"
   ]
  },
  {
   "cell_type": "code",
   "execution_count": 12,
   "metadata": {},
   "outputs": [],
   "source": [
    "with open('arquivos/naruto.txt','r') as arquivo:\n",
    "    conteudo = arquivo.read()"
   ]
  },
  {
   "cell_type": "code",
   "execution_count": 13,
   "metadata": {},
   "outputs": [
    {
     "name": "stdout",
     "output_type": "stream",
     "text": [
      "165\n"
     ]
    }
   ],
   "source": [
    "print(len(conteudo))"
   ]
  },
  {
   "cell_type": "code",
   "execution_count": 14,
   "metadata": {},
   "outputs": [
    {
     "name": "stdout",
     "output_type": "stream",
     "text": [
      "O Naruto pode ser um pouco duro as vezes Pode não parecer, mas o Naruto também cresceu sem pai, ele não teve nenhum dos pais E não teve nenhum amigo em nossa aldeia \n"
     ]
    }
   ],
   "source": [
    "print(conteudo)"
   ]
  },
  {
   "cell_type": "code",
   "execution_count": 15,
   "metadata": {
    "scrolled": true
   },
   "outputs": [
    {
     "name": "stdout",
     "output_type": "stream",
     "text": [
      "O Naruto pode ser um pouco duro as vezes\n",
      "Pode não parecer, mas o Naruto também cresceu sem pai, ele  não teve nenhum dos pais\n",
      "E não teve nenhum amigo em nossa aldeia\n"
     ]
    }
   ],
   "source": [
    "print(texto)"
   ]
  },
  {
   "cell_type": "code",
   "execution_count": 31,
   "metadata": {},
   "outputs": [
    {
     "name": "stdout",
     "output_type": "stream",
     "text": [
      "O Naruto pode ser um pouco duro as vezes\n",
      "ele não teve nenhum amigo em nossa aldeia\n"
     ]
    }
   ],
   "source": [
    "#Nota# \n",
    "# Com a utilização de numeros positivos o slicing é exclusivo\n",
    "# Com a utilização de numeros negativos ele se torna inclusivo \n",
    "# Isso pq o python começa a contar de '0' e nos casos de numero negativo\n",
    "# ele começa a contar de '-1'\n",
    "print(texto[:40])\n",
    "print('ele '+texto[-37:])"
   ]
  },
  {
   "cell_type": "code",
   "execution_count": 34,
   "metadata": {},
   "outputs": [],
   "source": [
    "with open('arquivos/naruto.txt', 'w') as arq:\n",
    "    arq.write(texto[:40])\n",
    "    arq.write('\\n')\n",
    "    arq.write('ele '+texto[-37:])"
   ]
  },
  {
   "cell_type": "code",
   "execution_count": 36,
   "metadata": {},
   "outputs": [
    {
     "name": "stdout",
     "output_type": "stream",
     "text": [
      "O Naruto pode ser um pouco duro as vezes\n",
      "ele não teve nenhum amigo em nossa aldeia\n"
     ]
    }
   ],
   "source": [
    "with open('arquivos/naruto.txt', 'r') as arq:\n",
    "    print(arq.read())"
   ]
  },
  {
   "cell_type": "markdown",
   "metadata": {},
   "source": [
    "### Manipulando arquivos CSV"
   ]
  },
  {
   "cell_type": "code",
   "execution_count": 2,
   "metadata": {},
   "outputs": [],
   "source": [
    "#importar o módulo csv\n",
    "import csv"
   ]
  },
  {
   "cell_type": "code",
   "execution_count": 3,
   "metadata": {},
   "outputs": [],
   "source": [
    "with open('arquivos/numeros.csv','w') as arq:\n",
    "    # instancia um objeto do tipo 'writer'\n",
    "    # ou seja, um 'escritor'\n",
    "    writer = csv.writer(arq)\n",
    "    writer.writerow(('primeira','segunda','terceira'))\n",
    "    writer.writerow((246,7765,6))\n",
    "    writer.writerow((1,46,7))\n",
    "    writer.writerow((12,44,31))"
   ]
  },
  {
   "cell_type": "code",
   "execution_count": 6,
   "metadata": {},
   "outputs": [
    {
     "name": "stdout",
     "output_type": "stream",
     "text": [
      "Numero de colunas: 3\n",
      "['primeira', 'segunda', 'terceira']\n",
      "Numero de colunas: 3\n",
      "['246', '7765', '6']\n",
      "Numero de colunas: 3\n",
      "['1', '46', '7']\n",
      "Numero de colunas: 3\n",
      "['12', '44', '31']\n"
     ]
    }
   ],
   "source": [
    "with open('arquivos/numeros.csv', 'r') as arq:\n",
    "    read = csv.reader(arq)\n",
    "    for x in read:\n",
    "        print('Numero de colunas:', len(x))\n",
    "        print(x)"
   ]
  },
  {
   "cell_type": "code",
   "execution_count": 7,
   "metadata": {},
   "outputs": [
    {
     "name": "stdout",
     "output_type": "stream",
     "text": [
      "[['primeira', 'segunda', 'terceira'], ['246', '7765', '6'], ['1', '46', '7'], ['12', '44', '31']]\n"
     ]
    }
   ],
   "source": [
    "with open('arquivos/numeros.csv', 'r') as arq:\n",
    "    read = csv.reader(arq)\n",
    "    dados = list(read)\n",
    "    \n",
    "print(dados)"
   ]
  },
  {
   "cell_type": "code",
   "execution_count": 18,
   "metadata": {},
   "outputs": [
    {
     "name": "stdout",
     "output_type": "stream",
     "text": [
      "['246', '7765', '6']\n",
      "['1', '46', '7']\n",
      "['12', '44', '31']\n"
     ]
    }
   ],
   "source": [
    "for row in dados[1:]:\n",
    "    print(row)"
   ]
  },
  {
   "cell_type": "markdown",
   "metadata": {},
   "source": [
    "### Manipulando arquivos JSON"
   ]
  },
  {
   "cell_type": "code",
   "execution_count": 25,
   "metadata": {},
   "outputs": [],
   "source": [
    "dict = {\n",
    "    'nome':'Davi',\n",
    "    'linguagem':'Python',\n",
    "    'others':['c','java','dart'],\n",
    "    'years-old':20\n",
    "}"
   ]
  },
  {
   "cell_type": "code",
   "execution_count": 26,
   "metadata": {},
   "outputs": [
    {
     "name": "stdout",
     "output_type": "stream",
     "text": [
      "nome Davi\n",
      "linguagem Python\n",
      "others ['c', 'java', 'dart']\n",
      "years-old 20\n"
     ]
    }
   ],
   "source": [
    "for k,v in dict.items():\n",
    "    print(k, v)"
   ]
  },
  {
   "cell_type": "code",
   "execution_count": 27,
   "metadata": {},
   "outputs": [],
   "source": [
    "import json"
   ]
  },
  {
   "cell_type": "code",
   "execution_count": 28,
   "metadata": {},
   "outputs": [
    {
     "data": {
      "text/plain": [
       "'{\"nome\": \"Davi\", \"linguagem\": \"Python\", \"others\": [\"c\", \"java\", \"dart\"], \"years-old\": 20}'"
      ]
     },
     "execution_count": 28,
     "metadata": {},
     "output_type": "execute_result"
    }
   ],
   "source": [
    "#converte o dicionário para um objeto JSON\n",
    "json.dumps(dict)"
   ]
  },
  {
   "cell_type": "code",
   "execution_count": 29,
   "metadata": {},
   "outputs": [],
   "source": [
    "with open('arquivos/dados.json','w') as arq: \n",
    "    arq.write(json.dumps(dict))"
   ]
  },
  {
   "cell_type": "code",
   "execution_count": 30,
   "metadata": {},
   "outputs": [],
   "source": [
    "with open('arquivos/dados.json', 'r') as arq:\n",
    "    texto = arq.read()\n",
    "    data = json.loads(texto) "
   ]
  },
  {
   "cell_type": "code",
   "execution_count": 31,
   "metadata": {},
   "outputs": [
    {
     "name": "stdout",
     "output_type": "stream",
     "text": [
      "{'nome': 'Davi', 'linguagem': 'Python', 'others': ['c', 'java', 'dart'], 'years-old': 20}\n"
     ]
    }
   ],
   "source": [
    "print(data)"
   ]
  },
  {
   "cell_type": "code",
   "execution_count": 32,
   "metadata": {},
   "outputs": [
    {
     "name": "stdout",
     "output_type": "stream",
     "text": [
      "Davi\n"
     ]
    }
   ],
   "source": [
    "print(data['nome'])"
   ]
  },
  {
   "cell_type": "code",
   "execution_count": 33,
   "metadata": {},
   "outputs": [],
   "source": [
    "from urllib.request import urlopen\n",
    "\n",
    "response = urlopen('http://vimeo.com/api/v2/video/57733101.json').read().decode('utf8')\n",
    "# carrega para json com o 'loads'\n",
    "data = json.loads(response)[0]"
   ]
  },
  {
   "cell_type": "code",
   "execution_count": 37,
   "metadata": {},
   "outputs": [
    {
     "name": "stdout",
     "output_type": "stream",
     "text": [
      "Titulo:  The Good Man trailer\n"
     ]
    }
   ],
   "source": [
    "print('Titulo: ', data['title'])\n",
    "# print(data)"
   ]
  },
  {
   "cell_type": "code",
   "execution_count": 38,
   "metadata": {},
   "outputs": [],
   "source": [
    "#copiando o contéudo de um arquivo para o outro\n",
    "\n",
    "import os\n",
    "\n",
    "arq_font = 'arquivos/dados.json'\n",
    "arq_dest = 'arquivos/json_data.txt'"
   ]
  },
  {
   "cell_type": "code",
   "execution_count": 39,
   "metadata": {},
   "outputs": [],
   "source": [
    "# metodo 1\n",
    "with open(arq_font, 'r') as arq_f:\n",
    "    dados = arq_f.read()\n",
    "    with open(arq_dest, 'w') as arq_d:\n",
    "        arq_d.write(dados)"
   ]
  },
  {
   "cell_type": "code",
   "execution_count": 40,
   "metadata": {},
   "outputs": [
    {
     "data": {
      "text/plain": [
       "89"
      ]
     },
     "execution_count": 40,
     "metadata": {},
     "output_type": "execute_result"
    }
   ],
   "source": [
    "# metodo 2\n",
    "open(arq_dest, 'w').write(open(arq_font,'r').read())"
   ]
  },
  {
   "cell_type": "code",
   "execution_count": 43,
   "metadata": {},
   "outputs": [
    {
     "name": "stdout",
     "output_type": "stream",
     "text": [
      "{\"nome\": \"Davi\", \"linguagem\": \"Python\", \"others\": [\"c\", \"java\", \"dart\"], \"years-old\": 20}\n"
     ]
    }
   ],
   "source": [
    "print(open(arq_dest,'r').read())"
   ]
  }
 ],
 "metadata": {
  "kernelspec": {
   "display_name": "Python 3",
   "language": "python",
   "name": "python3"
  },
  "language_info": {
   "codemirror_mode": {
    "name": "ipython",
    "version": 3
   },
   "file_extension": ".py",
   "mimetype": "text/x-python",
   "name": "python",
   "nbconvert_exporter": "python",
   "pygments_lexer": "ipython3",
   "version": "3.6.8"
  }
 },
 "nbformat": 4,
 "nbformat_minor": 2
}
